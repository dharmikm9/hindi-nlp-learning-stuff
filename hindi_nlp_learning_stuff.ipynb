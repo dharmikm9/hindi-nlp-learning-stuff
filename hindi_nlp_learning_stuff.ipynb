{
  "nbformat": 4,
  "nbformat_minor": 0,
  "metadata": {
    "colab": {
      "name": "Welcome To Colaboratory",
      "provenance": [],
      "collapsed_sections": [],
      "toc_visible": true,
      "include_colab_link": true
    },
    "kernelspec": {
      "display_name": "Python 3",
      "name": "python3"
    }
  },
  "cells": [
    {
      "cell_type": "markdown",
      "metadata": {
        "id": "view-in-github",
        "colab_type": "text"
      },
      "source": [
        "<a href=\"https://colab.research.google.com/github/dharmikmehta98/hindi-nlp-learning-stuff/blob/master/hindi_nlp_learning_stuff.ipynb\" target=\"_parent\"><img src=\"https://colab.research.google.com/assets/colab-badge.svg\" alt=\"Open In Colab\"/></a>"
      ]
    },
    {
      "cell_type": "code",
      "metadata": {
        "id": "G8DhfYlttZgZ",
        "colab_type": "code",
        "colab": {
          "base_uri": "https://localhost:8080/",
          "height": 101
        },
        "outputId": "a402f19a-a280-4c15-82bc-062e0316ab13"
      },
      "source": [
        "import nltk\n",
        "import gensim\n",
        "from nltk.corpus import abc\n",
        "\n",
        "nltk.download('abc')\n",
        "nltk.download('punkt')\n",
        "\n"
      ],
      "execution_count": 4,
      "outputs": [
        {
          "output_type": "stream",
          "text": [
            "[nltk_data] Downloading package abc to /root/nltk_data...\n",
            "[nltk_data]   Package abc is already up-to-date!\n",
            "[nltk_data] Downloading package punkt to /root/nltk_data...\n",
            "[nltk_data]   Unzipping tokenizers/punkt.zip.\n"
          ],
          "name": "stdout"
        },
        {
          "output_type": "execute_result",
          "data": {
            "text/plain": [
              "True"
            ]
          },
          "metadata": {
            "tags": []
          },
          "execution_count": 4
        }
      ]
    },
    {
      "cell_type": "code",
      "metadata": {
        "id": "uHa_6AuNthMO",
        "colab_type": "code",
        "colab": {
          "base_uri": "https://localhost:8080/",
          "height": 54
        },
        "outputId": "ef6ffaef-b966-44e6-99f9-64253870e0fa"
      },
      "source": [
        "abc.sents()"
      ],
      "execution_count": 5,
      "outputs": [
        {
          "output_type": "execute_result",
          "data": {
            "text/plain": [
              "[['PM', 'denies', 'knowledge', 'of', 'AWB', 'kickbacks', 'The', 'Prime', 'Minister', 'has', 'denied', 'he', 'knew', 'AWB', 'was', 'paying', 'kickbacks', 'to', 'Iraq', 'despite', 'writing', 'to', 'the', 'wheat', 'exporter', 'asking', 'to', 'be', 'kept', 'fully', 'informed', 'on', 'Iraq', 'wheat', 'sales', '.'], ['Letters', 'from', 'John', 'Howard', 'and', 'Deputy', 'Prime', 'Minister', 'Mark', 'Vaile', 'to', 'AWB', 'have', 'been', 'released', 'by', 'the', 'Cole', 'inquiry', 'into', 'the', 'oil', 'for', 'food', 'program', '.'], ...]"
            ]
          },
          "metadata": {
            "tags": []
          },
          "execution_count": 5
        }
      ]
    },
    {
      "cell_type": "code",
      "metadata": {
        "id": "GnCDFy3Ttge2",
        "colab_type": "code",
        "colab": {}
      },
      "source": [
        "model= gensim.models.Word2Vec(abc.sents())"
      ],
      "execution_count": 0,
      "outputs": []
    },
    {
      "cell_type": "code",
      "metadata": {
        "id": "R5hPeBfMtbGR",
        "colab_type": "code",
        "colab": {
          "base_uri": "https://localhost:8080/",
          "height": 121
        },
        "outputId": "104adb78-34af-4244-c17a-932e6084c37f"
      },
      "source": [
        "X= list(model.wv.vocab)\n",
        "data=model.most_similar('science')\n",
        "print(data)"
      ],
      "execution_count": 7,
      "outputs": [
        {
          "output_type": "stream",
          "text": [
            "[('law', 0.9352403283119202), ('agriculture', 0.9255430102348328), ('general', 0.9217641353607178), ('policy', 0.9197758436203003), ('media', 0.918674647808075), ('practice', 0.9154335856437683), ('discussion', 0.9099217057228088), ('board', 0.9050788283348083), ('heritage', 0.904373288154602), ('reservoir', 0.9040735960006714)]\n"
          ],
          "name": "stdout"
        },
        {
          "output_type": "stream",
          "text": [
            "/usr/local/lib/python3.6/dist-packages/ipykernel_launcher.py:2: DeprecationWarning: Call to deprecated `most_similar` (Method will be removed in 4.0.0, use self.wv.most_similar() instead).\n",
            "  \n",
            "/usr/local/lib/python3.6/dist-packages/gensim/matutils.py:737: FutureWarning: Conversion of the second argument of issubdtype from `int` to `np.signedinteger` is deprecated. In future, it will be treated as `np.int64 == np.dtype(int).type`.\n",
            "  if np.issubdtype(vec.dtype, np.int):\n"
          ],
          "name": "stderr"
        }
      ]
    },
    {
      "cell_type": "code",
      "metadata": {
        "id": "eh7Rn7WTt6X7",
        "colab_type": "code",
        "colab": {
          "base_uri": "https://localhost:8080/",
          "height": 34
        },
        "outputId": "9e72a2ef-31b2-4fea-9ccb-c6a88f534a2c"
      },
      "source": [
        "len(model.wv.vocab)"
      ],
      "execution_count": 9,
      "outputs": [
        {
          "output_type": "execute_result",
          "data": {
            "text/plain": [
              "10363"
            ]
          },
          "metadata": {
            "tags": []
          },
          "execution_count": 9
        }
      ]
    },
    {
      "cell_type": "code",
      "metadata": {
        "id": "9dueiPrUvnZK",
        "colab_type": "code",
        "colab": {}
      },
      "source": [
        "# download the resource\n",
        "!git clone https://github.com/anoopkunchukuttan/indic_nlp_resources.git"
      ],
      "execution_count": 0,
      "outputs": []
    },
    {
      "cell_type": "code",
      "metadata": {
        "id": "N_Drx-lMy2K8",
        "colab_type": "code",
        "colab": {
          "base_uri": "https://localhost:8080/",
          "height": 134
        },
        "outputId": "746d61ce-87e4-4a5c-f473-8d2c107811d7"
      },
      "source": [
        "# download the repo\n",
        "!git clone https://github.com/anoopkunchukuttan/indic_nlp_library.git"
      ],
      "execution_count": 19,
      "outputs": [
        {
          "output_type": "stream",
          "text": [
            "Cloning into 'indic_nlp_library'...\n",
            "remote: Enumerating objects: 41, done.\u001b[K\n",
            "remote: Counting objects:   2% (1/41)\u001b[K\rremote: Counting objects:   4% (2/41)\u001b[K\rremote: Counting objects:   7% (3/41)\u001b[K\rremote: Counting objects:   9% (4/41)\u001b[K\rremote: Counting objects:  12% (5/41)\u001b[K\rremote: Counting objects:  14% (6/41)\u001b[K\rremote: Counting objects:  17% (7/41)\u001b[K\rremote: Counting objects:  19% (8/41)\u001b[K\rremote: Counting objects:  21% (9/41)\u001b[K\rremote: Counting objects:  24% (10/41)\u001b[K\rremote: Counting objects:  26% (11/41)\u001b[K\rremote: Counting objects:  29% (12/41)\u001b[K\rremote: Counting objects:  31% (13/41)\u001b[K\rremote: Counting objects:  34% (14/41)\u001b[K\rremote: Counting objects:  36% (15/41)\u001b[K\rremote: Counting objects:  39% (16/41)\u001b[K\rremote: Counting objects:  41% (17/41)\u001b[K\rremote: Counting objects:  43% (18/41)\u001b[K\rremote: Counting objects:  46% (19/41)\u001b[K\rremote: Counting objects:  48% (20/41)\u001b[K\rremote: Counting objects:  51% (21/41)\u001b[K\rremote: Counting objects:  53% (22/41)\u001b[K\rremote: Counting objects:  56% (23/41)\u001b[K\rremote: Counting objects:  58% (24/41)\u001b[K\rremote: Counting objects:  60% (25/41)\u001b[K\rremote: Counting objects:  63% (26/41)\u001b[K\rremote: Counting objects:  65% (27/41)\u001b[K\rremote: Counting objects:  68% (28/41)\u001b[K\rremote: Counting objects:  70% (29/41)\u001b[K\rremote: Counting objects:  73% (30/41)\u001b[K\rremote: Counting objects:  75% (31/41)\u001b[K\rremote: Counting objects:  78% (32/41)\u001b[K\rremote: Counting objects:  80% (33/41)\u001b[K\rremote: Counting objects:  82% (34/41)\u001b[K\rremote: Counting objects:  85% (35/41)\u001b[K\rremote: Counting objects:  87% (36/41)\u001b[K\rremote: Counting objects:  90% (37/41)\u001b[K\rremote: Counting objects:  92% (38/41)\u001b[K\rremote: Counting objects:  95% (39/41)\u001b[K\rremote: Counting objects:  97% (40/41)\u001b[K\rremote: Counting objects: 100% (41/41)\u001b[K\rremote: Counting objects: 100% (41/41), done.\u001b[K\n",
            "remote: Compressing objects: 100% (29/29), done.\u001b[K\n",
            "remote: Total 1219 (delta 24), reused 20 (delta 12), pack-reused 1178\u001b[K\n",
            "Receiving objects: 100% (1219/1219), 9.44 MiB | 14.47 MiB/s, done.\n",
            "Resolving deltas: 100% (628/628), done.\n"
          ],
          "name": "stdout"
        }
      ]
    },
    {
      "cell_type": "code",
      "metadata": {
        "id": "y2zb12G0zb3l",
        "colab_type": "code",
        "colab": {}
      },
      "source": [
        "!pip install indic-nlp-library"
      ],
      "execution_count": 0,
      "outputs": []
    },
    {
      "cell_type": "code",
      "metadata": {
        "id": "4WlUJlJmzMj1",
        "colab_type": "code",
        "colab": {}
      },
      "source": [
        "import sys\n",
        "from indicnlp import common\n",
        "\n",
        "# The path to the local git repo for Indic NLP library\n",
        "INDIC_NLP_LIB_HOME=r\"/content/indic_nlp_library\"\n",
        "\n",
        "# The path to the local git repo for Indic NLP Resources\n",
        "INDIC_NLP_RESOURCES=r\"indic_nlp_resource/content/indic_nlp_resources\"\n",
        "\n",
        "# Add library to Python path\n",
        "sys.path.append(r'{}\\src'.format(INDIC_NLP_LIB_HOME))\n",
        "\n",
        "# Set environment variable for resources folder\n",
        "common.set_resources_path(INDIC_NLP_RESOURCES)"
      ],
      "execution_count": 0,
      "outputs": []
    },
    {
      "cell_type": "code",
      "metadata": {
        "id": "gUOD8ASTzVm1",
        "colab_type": "code",
        "colab": {
          "base_uri": "https://localhost:8080/",
          "height": 50
        },
        "outputId": "04e1dab6-9b49-45d1-8b12-e4a7c171001c"
      },
      "source": [
        "from indicnlp.tokenize import sentence_tokenize\n",
        "\n",
        "indic_string=\"\"\"इस बड़े शहर की भगदड़ ने,\n",
        "कहीं कुचल से दिए मेरे ख्वाब ।\"\"\"\n",
        "\n",
        "# Split the sentence, language code \"hi\" is passed for hingi\n",
        "sentences=sentence_tokenize.sentence_split(indic_string, lang='hi')\n",
        "\n",
        "# print the sentences\n",
        "for t in sentences:\n",
        "    print(t)"
      ],
      "execution_count": 31,
      "outputs": [
        {
          "output_type": "stream",
          "text": [
            "इस बड़े शहर की भगदड़ ने,\n",
            "कहीं कुचल से दिए मेरे ख्वाब ।\n"
          ],
          "name": "stdout"
        }
      ]
    },
    {
      "cell_type": "code",
      "metadata": {
        "id": "ibUbI5m5zh39",
        "colab_type": "code",
        "colab": {
          "base_uri": "https://localhost:8080/",
          "height": 50
        },
        "outputId": "87ff72b0-847c-40c3-a793-963e0c873ae0"
      },
      "source": [
        "from indicnlp.transliterate.unicode_transliterate import UnicodeIndicTransliterator\n",
        "from indicnlp.transliterate.unicode_transliterate import ItransTransliterator\n",
        "\n",
        "# Input text \"Today the weather is good. Sun is bright and there are no signs of rain. Hence we can play today.\"\n",
        "input_text=\"\"\"इस बड़े शहर की भगदड़ ने,\n",
        "कहीं कुचल से दिए मेरे ख्वाब ।\"\"\"\n",
        "\n",
        "\n",
        "# Transliterate Hindi to Roman\n",
        "print(ItransTransliterator.to_itrans(input_text, 'hi'))"
      ],
      "execution_count": 32,
      "outputs": [
        {
          "output_type": "stream",
          "text": [
            "इस बडे शहर ी भगदड़ े,\n",
            "कीं ुचल े िए ेे ाब ।\n"
          ],
          "name": "stdout"
        }
      ]
    },
    {
      "cell_type": "code",
      "metadata": {
        "id": "syT9D76Vz6YS",
        "colab_type": "code",
        "colab": {
          "base_uri": "https://localhost:8080/",
          "height": 34
        },
        "outputId": "516844bb-1bde-4654-bf7c-8c325a1ed5b2"
      },
      "source": [
        "from indicnlp.transliterate.unicode_transliterate import ItransTransliterator\n",
        "\n",
        "input_text='आज मौसम अच्छा है। इसलिए हम आज खेल सकते हैं!'\n",
        "\n",
        "# Transliterate Hindi to Roman\n",
        "print(ItransTransliterator.to_itrans(input_text, 'hi'))"
      ],
      "execution_count": 33,
      "outputs": [
        {
          "output_type": "stream",
          "text": [
            "आज ौसम अा ै। इसिए हम आज ेल सके ैं!\n"
          ],
          "name": "stdout"
        }
      ]
    },
    {
      "cell_type": "code",
      "metadata": {
        "id": "6xqdr4Hb0sTs",
        "colab_type": "code",
        "colab": {}
      },
      "source": [
        "!pip install stanfordnlp"
      ],
      "execution_count": 0,
      "outputs": []
    },
    {
      "cell_type": "code",
      "metadata": {
        "id": "SHUHGzQ703cJ",
        "colab_type": "code",
        "colab": {}
      },
      "source": [
        "import stanfordnlp\n",
        "stanfordnlp.download('hi')"
      ],
      "execution_count": 0,
      "outputs": []
    },
    {
      "cell_type": "code",
      "metadata": {
        "id": "IjXryx7i07Ge",
        "colab_type": "code",
        "colab": {}
      },
      "source": [
        "try:\n",
        "  nlp = stanfordnlp.Pipeline(models_dir=r'/content',processors = \"tokenize\",lang=\"hi\")\n",
        "except e:\n",
        "  print(e)"
      ],
      "execution_count": 0,
      "outputs": []
    },
    {
      "cell_type": "code",
      "metadata": {
        "id": "cZnglktL1UWO",
        "colab_type": "code",
        "colab": {}
      },
      "source": [
        "hindi_doc = nlp(\"\"\"इस बड़े शहर की भगदड़ ने,\n",
        "कहीं कुचल से दिए मेरे ख्वाब ।।\"\"\")"
      ],
      "execution_count": 0,
      "outputs": []
    },
    {
      "cell_type": "code",
      "metadata": {
        "id": "opJSFNdp4y4V",
        "colab_type": "code",
        "colab": {
          "base_uri": "https://localhost:8080/",
          "height": 34
        },
        "outputId": "55a62fc7-cd13-4ab7-f1eb-64fa70cc7266"
      },
      "source": [
        "hindi_doc.text"
      ],
      "execution_count": 66,
      "outputs": [
        {
          "output_type": "execute_result",
          "data": {
            "text/plain": [
              "'इस बड़े शहर की भगदड़ ने,\\nकहीं कुचल से दिए मेरे ख्वाब ।।'"
            ]
          },
          "metadata": {
            "tags": []
          },
          "execution_count": 66
        }
      ]
    },
    {
      "cell_type": "code",
      "metadata": {
        "id": "ji2MpsGc45gJ",
        "colab_type": "code",
        "colab": {
          "base_uri": "https://localhost:8080/",
          "height": 34
        },
        "outputId": "7d0d3964-9ab4-4c5d-f2fa-d2e8f671a333"
      },
      "source": [
        "hindi_doc."
      ],
      "execution_count": 69,
      "outputs": [
        {
          "output_type": "execute_result",
          "data": {
            "text/plain": [
              "<bound method Document.load_annotations of <stanfordnlp.pipeline.doc.Document object at 0x7f5da6f69240>>"
            ]
          },
          "metadata": {
            "tags": []
          },
          "execution_count": 69
        }
      ]
    },
    {
      "cell_type": "code",
      "metadata": {
        "id": "Ds0n4CYJ472S",
        "colab_type": "code",
        "colab": {}
      },
      "source": [
        "import pandas as pd\n",
        "#extract parts of speech\n",
        "def extract_pos(doc):\n",
        "    parsed_text = []\n",
        "    for sent in doc.sentences:\n",
        "        for wrd in sent.words:\n",
        "            parsed_text.append(wrd.text)\n",
        "    #return a dataframe of pos and text\n",
        "    return parsed_text"
      ],
      "execution_count": 0,
      "outputs": []
    },
    {
      "cell_type": "code",
      "metadata": {
        "id": "-TJX1vOe5aVv",
        "colab_type": "code",
        "colab": {}
      },
      "source": [
        "parsed_text = extract_pos(hindi_doc)"
      ],
      "execution_count": 0,
      "outputs": []
    },
    {
      "cell_type": "code",
      "metadata": {
        "id": "oddQXQc15dul",
        "colab_type": "code",
        "colab": {
          "base_uri": "https://localhost:8080/",
          "height": 269
        },
        "outputId": "615d88db-4537-44c3-ba3e-44795d871156"
      },
      "source": [
        "parsed_text"
      ],
      "execution_count": 79,
      "outputs": [
        {
          "output_type": "execute_result",
          "data": {
            "text/plain": [
              "['इस',\n",
              " 'बड़े',\n",
              " 'शहर',\n",
              " 'की',\n",
              " 'भगदड़',\n",
              " 'ने',\n",
              " ',',\n",
              " 'कहीं',\n",
              " 'कुचल',\n",
              " 'से',\n",
              " 'दिए',\n",
              " 'मेरे',\n",
              " 'ख्वाब',\n",
              " '।',\n",
              " '।']"
            ]
          },
          "metadata": {
            "tags": []
          },
          "execution_count": 79
        }
      ]
    },
    {
      "cell_type": "code",
      "metadata": {
        "id": "uN1668Jh5jJ0",
        "colab_type": "code",
        "colab": {}
      },
      "source": [
        ""
      ],
      "execution_count": 0,
      "outputs": []
    }
  ]
}